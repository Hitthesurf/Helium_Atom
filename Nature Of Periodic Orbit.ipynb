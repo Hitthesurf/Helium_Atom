{
 "cells": [
  {
   "cell_type": "markdown",
   "metadata": {
    "toc": true
   },
   "source": [
    "<h1>Table of Contents<span class=\"tocSkip\"></span></h1>\n",
    "<div class=\"toc\"><ul class=\"toc-item\"><li><span><a href=\"#Testing-For-Nature-Of-Periodic-Orbits\" data-toc-modified-id=\"Testing-For-Nature-Of-Periodic-Orbits-1\"><span class=\"toc-item-num\">1&nbsp;&nbsp;</span>Testing For Nature Of Periodic Orbits</a></span></li></ul></div>"
   ]
  },
  {
   "cell_type": "markdown",
   "metadata": {},
   "source": [
    "# Testing For Nature Of Periodic Orbits \n"
   ]
  },
  {
   "cell_type": "code",
   "execution_count": 1,
   "metadata": {},
   "outputs": [],
   "source": [
    "import numpy as np\n",
    "from ODEAnalysis import *"
   ]
  },
  {
   "cell_type": "code",
   "execution_count": 2,
   "metadata": {},
   "outputs": [],
   "source": [
    "# Testing\n",
    "def Test1(t, x, y, px, py, M):\n",
    "    L = np.matrix([[1, 0, 0, 0],\n",
    "                   [0, 1, 0, 0],\n",
    "                   [0, 0, 1, 0],\n",
    "                   [0, 0, 0, 1]])\n",
    "\n",
    "    x_dot = x+1\n",
    "    y_dot = y+2\n",
    "    px_dot = px + 3\n",
    "    py_dot = py+4\n",
    "\n",
    "    M_dot = L*M + 1\n",
    "\n",
    "    return np.array([x_dot, y_dot, px_dot, py_dot, M_dot])\n",
    "\n",
    "\n",
    "a = ODEAnalysis(Test1)\n",
    "TestInputData = (0, 1, 2, 3, 4, 5, 6, 7, 8, 9, 10, 11,\n",
    "                 12, 13, 14, 15, 16, 17, 18, 19, 20)\n",
    "ExpectedOutputData = np.array(\n",
    "    [2, 4, 6, 8, 6, 7, 8, 9, 10, 11, 12, 13, 14, 15, 16, 17, 18, 19, 20, 21])\n",
    "assert np.max(a.MonoDromyFunc(*TestInputData)-ExpectedOutputData) == 0"
   ]
  },
  {
   "cell_type": "code",
   "execution_count": 3,
   "metadata": {},
   "outputs": [],
   "source": [
    "def Test2(t, x, y, z, M):\n",
    "    L = np.matrix([[2, 0, 0],\n",
    "                   [0, 2, 0],\n",
    "                   [0, 0, 2]])\n",
    "    x_dot = x+1\n",
    "    y_dot = y+2\n",
    "    z_dot = z + 3\n",
    "\n",
    "    M_dot = L*M + 1\n",
    "\n",
    "    return np.array([x_dot, y_dot, z_dot, M_dot])\n",
    "\n",
    "\n",
    "a = ODEAnalysis(Test2)\n",
    "TestInputData = (0, 1, 2, 3, 4, 5, 6, 7, 8, 9, 10, 11,\n",
    "                 12)\n",
    "ExpectedOutputData = np.array(\n",
    "    [2, 4, 6, 9, 11, 13, 15, 17, 19, 21, 23, 25])\n",
    "assert np.max(a.MonoDromyFunc(*TestInputData)-ExpectedOutputData) == 0"
   ]
  },
  {
   "cell_type": "code",
   "execution_count": 4,
   "metadata": {},
   "outputs": [
    {
     "name": "stdout",
     "output_type": "stream",
     "text": [
      "Value 0: (534.8573094425844+0j)\n",
      "Vector 0: \n",
      "(0.7071067811865476+0j), \n",
      "(-0+0j), \n",
      "(0.7071067811865474-0j), \n",
      "(-0+0j), \n",
      "Start: [7.07106781e-05+0.j 3.00000000e+00+0.j 7.07106781e-05+0.j\n",
      " 3.00000000e+00+0.j]\n",
      "End: [0.03782012+0.j 2.98216781+0.j 0.03782012+0.j 3.01772682+0.j]\n",
      "Not Asymptotically Stable in this eigenvector direction \n",
      "\n",
      "Value 1: (0.001869657537033872+0j)\n",
      "Vector 1: \n",
      "(0.7071067811865476+0j), \n",
      "0j, \n",
      "(-0.7071067811865475+0j), \n",
      "0j, \n",
      "Start: [ 7.07106781e-05+0.j  3.00000000e+00+0.j -7.07106781e-05+0.j\n",
      "  3.00000000e+00+0.j]\n",
      "End: [ 1.32204752e-07+0.j  2.98216781e+00+0.j -1.32204752e-07+0.j\n",
      "  3.01772682e+00+0.j]\n",
      "Asymptotically Stable in this eigenvector direction \n",
      "\n",
      "Value 2: (0.9999824381358755+0.005926501367809589j)\n",
      "Vector 2: \n",
      "0j, \n",
      "(0.7071067811865476+0j), \n",
      "0j, \n",
      "-0.7071067811865475j, \n",
      "Start: [0.        +0.00000000e+00j 3.00007071+0.00000000e+00j\n",
      " 0.        +0.00000000e+00j 3.        -7.07106781e-05j]\n",
      "End: [0.        +0.00000000e+00j 2.98223852+4.19066931e-07j\n",
      " 0.        +0.00000000e+00j 3.01772724-7.07094363e-05j]\n",
      "Not Asymptotically Stable in this eigenvector direction \n",
      "\n",
      "Value 3: (0.9999824381358757-0.005926501367809617j)\n",
      "Vector 3: \n",
      "(-0+0j), \n",
      "(0.7071067811865539+0j), \n",
      "(-0+0j), \n",
      "(-9.655856361392652e-15+0.7071067811865411j), \n",
      "Start: [0.        +0.00000000e+00j 3.00007071+0.00000000e+00j\n",
      " 0.        +0.00000000e+00j 3.        +7.07106781e-05j]\n",
      "End: [0.        +0.00000000e+00j 2.98223852-4.19066931e-07j\n",
      " 0.        +0.00000000e+00j 3.01772724+7.07094363e-05j]\n",
      "Not Asymptotically Stable in this eigenvector direction \n",
      "\n"
     ]
    },
    {
     "data": {
      "text/plain": [
       "array([[ 2.67429590e+02+0.j,  0.00000000e+00+0.j,  2.67427720e+02+0.j,\n",
       "         0.00000000e+00+0.j],\n",
       "       [ 0.00000000e+00+0.j,  9.99982438e-01+0.j,  0.00000000e+00+0.j,\n",
       "        -5.92650137e-03+0.j],\n",
       "       [ 2.67427720e+02+0.j,  0.00000000e+00+0.j,  2.67429590e+02+0.j,\n",
       "         0.00000000e+00+0.j],\n",
       "       [ 0.00000000e+00+0.j,  5.92650137e-03+0.j,  0.00000000e+00+0.j,\n",
       "         9.99982438e-01+0.j]])"
      ]
     },
     "execution_count": 4,
     "metadata": {},
     "output_type": "execute_result"
    }
   ],
   "source": [
    "def example1(t, x, y, px, py, M):\n",
    "    a = 1\n",
    "    b = 5\n",
    "    L = np.matrix([[0, 0, a, 0],\n",
    "                   [0, 0, 0, b],\n",
    "                   [a, 0, 0, 0],\n",
    "                   [0, -b, 0, 0]])\n",
    "\n",
    "    x_dot = a*px\n",
    "    y_dot = b*py\n",
    "    px_dot = a*x\n",
    "    py_dot = -b*y\n",
    "\n",
    "    M_dot = L*M\n",
    "\n",
    "    return np.array([x_dot, y_dot, px_dot, py_dot, M_dot])\n",
    "\n",
    "\n",
    "a = ODEAnalysis(example1, StepOfTime=0.001)\n",
    "a.ShowEigen(np.pi*2, [0, 3, 0, 3], IntegrateOnOrbit = True)\n",
    "a.getMonoDromy(np.pi*2, [0, 3, 0, 3])"
   ]
  },
  {
   "cell_type": "code",
   "execution_count": null,
   "metadata": {},
   "outputs": [],
   "source": []
  }
 ],
 "metadata": {
  "kernelspec": {
   "display_name": "Python 3",
   "language": "python",
   "name": "python3"
  },
  "language_info": {
   "codemirror_mode": {
    "name": "ipython",
    "version": 3
   },
   "file_extension": ".py",
   "mimetype": "text/x-python",
   "name": "python",
   "nbconvert_exporter": "python",
   "pygments_lexer": "ipython3",
   "version": "3.7.6"
  },
  "toc": {
   "base_numbering": 1,
   "nav_menu": {},
   "number_sections": true,
   "sideBar": true,
   "skip_h1_title": false,
   "title_cell": "Table of Contents",
   "title_sidebar": "Contents",
   "toc_cell": true,
   "toc_position": {},
   "toc_section_display": true,
   "toc_window_display": false
  },
  "varInspector": {
   "cols": {
    "lenName": 16,
    "lenType": 16,
    "lenVar": 40
   },
   "kernels_config": {
    "python": {
     "delete_cmd_postfix": "",
     "delete_cmd_prefix": "del ",
     "library": "var_list.py",
     "varRefreshCmd": "print(var_dic_list())"
    },
    "r": {
     "delete_cmd_postfix": ") ",
     "delete_cmd_prefix": "rm(",
     "library": "var_list.r",
     "varRefreshCmd": "cat(var_dic_list()) "
    }
   },
   "types_to_exclude": [
    "module",
    "function",
    "builtin_function_or_method",
    "instance",
    "_Feature"
   ],
   "window_display": false
  }
 },
 "nbformat": 4,
 "nbformat_minor": 4
}
