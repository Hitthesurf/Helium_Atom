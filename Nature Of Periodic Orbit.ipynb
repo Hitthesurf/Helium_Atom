{
 "cells": [
  {
   "cell_type": "markdown",
   "metadata": {
    "toc": true
   },
   "source": [
    "<h1>Table of Contents<span class=\"tocSkip\"></span></h1>\n",
    "<div class=\"toc\"><ul class=\"toc-item\"><li><span><a href=\"#Testing-For-Nature-Of-Periodic-Orbits\" data-toc-modified-id=\"Testing-For-Nature-Of-Periodic-Orbits-1\"><span class=\"toc-item-num\">1&nbsp;&nbsp;</span>Testing For Nature Of Periodic Orbits</a></span></li></ul></div>"
   ]
  },
  {
   "cell_type": "markdown",
   "metadata": {},
   "source": [
    "# Testing For Nature Of Periodic Orbits \n"
   ]
  },
  {
   "cell_type": "code",
   "execution_count": 1,
   "metadata": {},
   "outputs": [],
   "source": [
    "import numpy as np\n",
    "from ODEAnalysis import *"
   ]
  },
  {
   "cell_type": "code",
   "execution_count": 2,
   "metadata": {},
   "outputs": [],
   "source": [
    "# Testing\n",
    "def Test1(t, x, y, px, py, M):\n",
    "    L = np.matrix([[1, 0, 0, 0],\n",
    "                   [0, 1, 0, 0],\n",
    "                   [0, 0, 1, 0],\n",
    "                   [0, 0, 0, 1]])\n",
    "\n",
    "    x_dot = x+1\n",
    "    y_dot = y+2\n",
    "    px_dot = px + 3\n",
    "    py_dot = py+4\n",
    "\n",
    "    M_dot = L*M + 1\n",
    "\n",
    "    return np.array([x_dot, y_dot, px_dot, py_dot, M_dot])\n",
    "\n",
    "\n",
    "a = ODEAnalysis(ODELin_To_Use = Test1)\n",
    "TestInputData = (0, 1, 2, 3, 4, 5, 6, 7, 8, 9, 10, 11,\n",
    "                 12, 13, 14, 15, 16, 17, 18, 19, 20)\n",
    "ExpectedOutputData = np.array(\n",
    "    [2, 4, 6, 8, 6, 7, 8, 9, 10, 11, 12, 13, 14, 15, 16, 17, 18, 19, 20, 21])\n",
    "assert np.max(a.MonoDromyFunc(*TestInputData)-ExpectedOutputData) == 0"
   ]
  },
  {
   "cell_type": "code",
   "execution_count": 3,
   "metadata": {},
   "outputs": [],
   "source": [
    "def Test2(t, x, y, z, M):\n",
    "    L = np.matrix([[2, 0, 0],\n",
    "                   [0, 2, 0],\n",
    "                   [0, 0, 2]])\n",
    "    x_dot = x+1\n",
    "    y_dot = y+2\n",
    "    z_dot = z + 3\n",
    "\n",
    "    M_dot = L*M + 1\n",
    "\n",
    "    return np.array([x_dot, y_dot, z_dot, M_dot])\n",
    "\n",
    "\n",
    "a = ODEAnalysis(ODELin_To_Use = Test2)\n",
    "TestInputData = (0, 1, 2, 3, 4, 5, 6, 7, 8, 9, 10, 11,\n",
    "                 12)\n",
    "ExpectedOutputData = np.array(\n",
    "    [2, 4, 6, 9, 11, 13, 15, 17, 19, 21, 23, 25])\n",
    "assert np.max(a.MonoDromyFunc(*TestInputData)-ExpectedOutputData) == 0"
   ]
  },
  {
   "cell_type": "code",
   "execution_count": 4,
   "metadata": {},
   "outputs": [
    {
     "name": "stdout",
     "output_type": "stream",
     "text": [
      "Value 0: 535.0\n",
      "Vector 0: \n",
      "0.707, \n",
      "0, \n",
      "0.707, \n",
      "0, \n",
      "Start: [7.07e-05 3.00e+00 7.07e-05 3.00e+00]\n",
      "End: [0.0379 3.     0.0379 3.    ]\n",
      "Not Asymptotically Stable in this eigenvector direction \n",
      "\n",
      "Value 1: 0.00187\n",
      "Vector 1: \n",
      "0.707, \n",
      "0, \n",
      "-0.7, \n",
      "0, \n",
      "Start: [ 7.07e-05  3.00e+00 -6.90e-05  3.00e+00]\n",
      "End: [ 1.32e-07  3.00e+00 -1.30e-07  3.00e+00]\n",
      "Asymptotically Stable in this eigenvector direction \n",
      "\n",
      "Value 2: (1+1.66e-10j)\n",
      "Vector 2: \n",
      "0, \n",
      "0.707, \n",
      "0, \n",
      "-0.7j, \n",
      "Start: [0.+0.0e+00j 3.+0.0e+00j 0.+0.0e+00j 3.-6.9e-05j]\n",
      "End: [0.+0.00e+00j 3.+1.17e-14j 0.+0.00e+00j 3.-6.90e-05j]\n",
      "Not Asymptotically Stable in this eigenvector direction \n",
      "\n",
      "Value 3: (1-1.5e-10j)\n",
      "Vector 3: \n",
      "0, \n",
      "0.707, \n",
      "0, \n",
      "(-3.1e-07+0.707j), \n",
      "Start: [0.+0.00e+00j 3.+0.00e+00j 0.+0.00e+00j 3.+7.07e-05j]\n",
      "End: [0.+0.00e+00j 3.-1.00e-14j 0.+0.00e+00j 3.+7.07e-05j]\n",
      "Not Asymptotically Stable in this eigenvector direction \n",
      "\n"
     ]
    },
    {
     "data": {
      "text/plain": [
       "array([[ 2.68e+02,  0.00e+00,  2.68e+02,  0.00e+00],\n",
       "       [ 0.00e+00,  1.00e+00,  0.00e+00, -1.50e-10],\n",
       "       [ 2.68e+02,  0.00e+00,  2.68e+02,  0.00e+00],\n",
       "       [ 0.00e+00,  1.66e-10,  0.00e+00,  1.00e+00]])"
      ]
     },
     "execution_count": 4,
     "metadata": {},
     "output_type": "execute_result"
    }
   ],
   "source": [
    "def example1(t, x, y, px, py):\n",
    "    a = 1\n",
    "    b = 5\n",
    "    \n",
    "    x_dot = a*px\n",
    "    y_dot = b*py\n",
    "    px_dot = a*x\n",
    "    py_dot = -b*y\n",
    "    \n",
    "    return np.array([x_dot, y_dot, px_dot, py_dot])\n",
    "\n",
    "def example1_with_lin(t, x, y, px, py, M):\n",
    "    a = 1\n",
    "    b = 5\n",
    "    L = np.matrix([[0, 0, a, 0],\n",
    "                   [0, 0, 0, b],\n",
    "                   [a, 0, 0, 0],\n",
    "                   [0, -b, 0, 0]])\n",
    "\n",
    "    x_dot = a*px\n",
    "    y_dot = b*py\n",
    "    px_dot = a*x\n",
    "    py_dot = -b*y\n",
    "\n",
    "    M_dot = L*M\n",
    "\n",
    "    return np.array([x_dot, y_dot, px_dot, py_dot, M_dot])\n",
    "\n",
    "\n",
    "a = ODEAnalysis(example1, example1_with_lin, StepOfTime=0.001)\n",
    "a.ShowEigen(np.pi*2, [0, 3, 0, 3], IntegrateOnOrbit = True)\n",
    "a.getMonoDromy(np.pi*2, [0, 3, 0, 3])"
   ]
  },
  {
   "cell_type": "code",
   "execution_count": 5,
   "metadata": {},
   "outputs": [],
   "source": [
    "def example4and5(t, q1, q2, p1, p2):\n",
    "    b = 0\n",
    "    \n",
    "    dot_q1 = p1\n",
    "    dot_p1 = -b-q1+q1**3\n",
    "    dot_q2 = p2\n",
    "    dot_p2 = -q2\n",
    "\n",
    "    return np.array([dot_q1, dot_q2, dot_p1,dot_p2])\n",
    "\n",
    "\n",
    "def example4and5_with_lin(t, q1, q2, p1, p2, M):\n",
    "    b=0\n",
    "    L = np.matrix([[0, 0, 1, 0],\n",
    "                   [0, 0, 0, 1],\n",
    "                   [3*q1**2-1, 0, 0, 0],\n",
    "                   [0, -1, 0, 0]])\n",
    "\n",
    "    dot_q1 = p1\n",
    "    dot_p1 = -b-q1+q1**3\n",
    "    dot_q2 = p2\n",
    "    dot_p2 = -q2\n",
    "\n",
    "    M_dot = L*M\n",
    "\n",
    "    return np.array([dot_q1, dot_q2, dot_p1,dot_p2, M_dot])\n",
    "\n",
    "\n",
    "ODE = ODEAnalysis(example4and5, example4and5_with_lin, StepOfTime=0.001)\n",
    "\n",
    "\n"
   ]
  },
  {
   "cell_type": "code",
   "execution_count": 6,
   "metadata": {},
   "outputs": [
    {
     "name": "stdout",
     "output_type": "stream",
     "text": [
      "Value 0: (1+4.87e-13j)\n",
      "Vector 0: \n",
      "0.707, \n",
      "0, \n",
      "-0.7j, \n",
      "0, \n",
      "Start: [7.07e-05+0.0e+00j 3.00e+00+0.0e+00j 0.00e+00-6.9e-05j 3.00e+00+0.0e+00j]\n",
      "End: [7.07e-05+3.45e-17j 3.00e+00+0.00e+00j 3.46e-17-6.90e-05j\n",
      " 3.00e+00+0.00e+00j]\n",
      "Not Asymptotically Stable in this eigenvector direction \n",
      "\n",
      "Value 1: (1-4.7e-13j)\n",
      "Vector 1: \n",
      "0.707, \n",
      "0, \n",
      "0.707j, \n",
      "0, \n",
      "Start: [ 7.07e-05+0.00e+00j  3.00e+00+0.00e+00j -2.20e-08+7.07e-05j\n",
      "  3.00e+00+0.00e+00j]\n",
      "End: [ 7.07e-05-7.10e-16j  3.00e+00+0.00e+00j -2.20e-08+7.07e-05j\n",
      "  3.00e+00+0.00e+00j]\n",
      "Not Asymptotically Stable in this eigenvector direction \n",
      "\n",
      "Value 2: (1+4.87e-13j)\n",
      "Vector 2: \n",
      "0, \n",
      "0.707, \n",
      "0, \n",
      "-0.7j, \n",
      "Start: [0.+0.0e+00j 3.+0.0e+00j 0.+0.0e+00j 3.-6.9e-05j]\n",
      "End: [0.+0.00e+00j 3.+3.41e-17j 0.+0.00e+00j 3.-6.90e-05j]\n",
      "Not Asymptotically Stable in this eigenvector direction \n",
      "\n",
      "Value 3: (1-4.7e-13j)\n",
      "Vector 3: \n",
      "0, \n",
      "0.707, \n",
      "0, \n",
      "0.707j, \n",
      "Start: [0.+0.00e+00j 3.+0.00e+00j 0.+0.00e+00j 3.+7.07e-05j]\n",
      "End: [0.+0.00e+00j 3.-3.40e-17j 0.+0.00e+00j 3.+7.07e-05j]\n",
      "Not Asymptotically Stable in this eigenvector direction \n",
      "\n"
     ]
    },
    {
     "data": {
      "text/plain": [
       "array([[ 1.00e+00,  0.00e+00, -4.70e-13,  0.00e+00],\n",
       "       [ 0.00e+00,  1.00e+00,  0.00e+00, -4.70e-13],\n",
       "       [ 4.87e-13,  0.00e+00,  1.00e+00,  0.00e+00],\n",
       "       [ 0.00e+00,  4.87e-13,  0.00e+00,  1.00e+00]])"
      ]
     },
     "execution_count": 6,
     "metadata": {},
     "output_type": "execute_result"
    }
   ],
   "source": [
    "ODE.ShowEigen(2*np.pi, [0,3,0,3],IntegrateOnOrbit = True)\n",
    "ODE.getMonoDromy(np.pi*2, [0, 3, 0, 3])"
   ]
  },
  {
   "cell_type": "code",
   "execution_count": 7,
   "metadata": {},
   "outputs": [],
   "source": [
    "#Test For SigFig From ODEAnalysis\n",
    "\n",
    "assert SigFig(54, 4) == 54\n",
    "assert SigFig(5.332, 2) == 5.3\n",
    "assert SigFig(159321.2, 3) == 159000\n",
    "assert SigFig(0.012345, 4) == 0.01235\n",
    "assert SigFig(32.3+52.01j, 2) == 32 + 52j\n",
    "assert SigFig(0.02156, 2) == 0.022\n",
    "assert SigFig(5453000 + 0.02156j, 2) == 5500000 + 0.022j\n",
    "assert SigFig(1.3452e-5,3) == 1.35e-5\n",
    "assert SigFig(0,5) == 0\n",
    "assert SigFig(0*1j,5) == 0"
   ]
  },
  {
   "cell_type": "code",
   "execution_count": 8,
   "metadata": {},
   "outputs": [],
   "source": [
    "assert SigFig(0.005926,3) == 0.00593\n",
    "\n",
    "expected = np.array([0.0216, 0.00593, 5450000 + 0.0216j])\n",
    "assert np.max(abs(SigFig([0.02156,0.005926,5453000 + 0.02156j],3) - expected))<1e-10\n"
   ]
  },
  {
   "cell_type": "code",
   "execution_count": null,
   "metadata": {},
   "outputs": [],
   "source": []
  }
 ],
 "metadata": {
  "kernelspec": {
   "display_name": "Python 3",
   "language": "python",
   "name": "python3"
  },
  "language_info": {
   "codemirror_mode": {
    "name": "ipython",
    "version": 3
   },
   "file_extension": ".py",
   "mimetype": "text/x-python",
   "name": "python",
   "nbconvert_exporter": "python",
   "pygments_lexer": "ipython3",
   "version": "3.7.6"
  },
  "toc": {
   "base_numbering": 1,
   "nav_menu": {},
   "number_sections": true,
   "sideBar": true,
   "skip_h1_title": false,
   "title_cell": "Table of Contents",
   "title_sidebar": "Contents",
   "toc_cell": true,
   "toc_position": {},
   "toc_section_display": true,
   "toc_window_display": false
  },
  "varInspector": {
   "cols": {
    "lenName": 16,
    "lenType": 16,
    "lenVar": 40
   },
   "kernels_config": {
    "python": {
     "delete_cmd_postfix": "",
     "delete_cmd_prefix": "del ",
     "library": "var_list.py",
     "varRefreshCmd": "print(var_dic_list())"
    },
    "r": {
     "delete_cmd_postfix": ") ",
     "delete_cmd_prefix": "rm(",
     "library": "var_list.r",
     "varRefreshCmd": "cat(var_dic_list()) "
    }
   },
   "types_to_exclude": [
    "module",
    "function",
    "builtin_function_or_method",
    "instance",
    "_Feature"
   ],
   "window_display": false
  }
 },
 "nbformat": 4,
 "nbformat_minor": 4
}
